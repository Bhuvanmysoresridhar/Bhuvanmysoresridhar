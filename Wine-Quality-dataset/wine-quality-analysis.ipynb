{
 "cells": [
  {
   "cell_type": "markdown",
   "metadata": {},
   "source": [
    "<a href=\"https://www.kaggle.com/code/xshaimaa/wine-quality-analysis-and-eda?scriptVersionId=93689372\" target=\"_blank\"><img align=\"left\" alt=\"Kaggle\" title=\"Open in Kaggle\" src=\"https://kaggle.com/static/images/open-in-kaggle.svg\"></a>"
   ]
  },
  {
   "cell_type": "markdown",
   "id": "e07922d1",
   "metadata": {
    "papermill": {
     "duration": 0.04882,
     "end_time": "2022-04-22T05:56:55.21166",
     "exception": false,
     "start_time": "2022-04-22T05:56:55.16284",
     "status": "completed"
    },
    "tags": []
   },
   "source": [
    "## Dataset Description\n",
    "There are two datasets that provide information on samples of red and white variants of the Portuguese \"Vinho Verde\" wine. Each sample of wine was rated for quality by wine experts and examined with physicochemical tests. Due to privacy and logistic issues, only data on these physicochemical properties and quality ratings are available (e.g. there is no data about grape types, wine brand, wine selling price, etc.). data is originaly from [UCI Machine Learning Repository](https://archive.ics.uci.edu/ml/datasets/Wine+Quality).\n",
    "\n",
    "## Columns Description\n",
    "1. `fixed acidity`: most acids involved with wine or fixed or nonvolatile (do not evaporate readily)\n",
    "2. `volatile acidity`: the amount of acetic acid in wine, which at too high of levels can lead to an unpleasant, vinegar taste\n",
    "3. `citric acid`: found in small quantities, citric acid can add 'freshness' and flavor to wines\n",
    "4. `residual sugar`: the amount of sugar remaining after fermentation stops, it's rare to find wines with less than 1 gram/liter and wines with greater than 45 grams/liter are considered sweet\n",
    "5. `chlorides`: the amount of salt in the wine\n",
    "6. `free sulfur dioxide`: the free form of SO2 exists in equilibrium between molecular SO2 (as a dissolved gas) and bisulfite ion; it prevents microbial growth and the oxidation of wine\n",
    "7. `total sulfur dioxide`: amount of free and bound forms of S02; in low concentrations, SO2 is mostly undetectable in wine, but at free SO2 concentrations over 50 ppm, SO2 becomes evident in the nose and taste of wine\n",
    "8. `density`: the density of water is close to that of water depending on the percent alcohol and sugar content\n",
    "9. `pH`: describes how acidic or basic a wine is on a scale from 0 (very acidic) to 14 (very basic); most wines are between 3-4 on the pH scale\n",
    "10. `sulphates`: a wine additive which can contribute to sulfur dioxide gas (S02) levels, wich acts as an antimicrobial and antioxidant\n",
    "11. `alcohol`: the percent alcohol content of the wine\n",
    "12. `quality`: (score between 0 and 10)\n",
    "\n",
    "## EDA Questions\n",
    "- Q1: What chemical characteristics are most important in predicting the quality of wine?\n",
    "- Q2: Is a certain type of wine (red or white) associated with higher quality?\n",
    "- Q3: Do wines with higher alcoholic content receive better ratings?\n",
    "- Q4: Do sweeter wines (more residual sugar) receive better ratings?\n",
    "- Q5: What level of acidity (pH) is associated with the highest quality?"
   ]
  },
  {
   "cell_type": "markdown",
   "id": "2625483a",
   "metadata": {
    "papermill": {
     "duration": 0.046817,
     "end_time": "2022-04-22T05:56:55.307728",
     "exception": false,
     "start_time": "2022-04-22T05:56:55.260911",
     "status": "completed"
    },
    "tags": []
   },
   "source": [
    "## Enironment Set-up"
   ]
  },
  {
   "cell_type": "code",
   "execution_count": 27,
   "id": "6c605353",
   "metadata": {
    "_cell_guid": "b1076dfc-b9ad-4769-8c92-a6c4dae69d19",
    "_uuid": "8f2839f25d086af736a60e9eeb907d3b93b6e0e5",
    "execution": {
     "iopub.execute_input": "2022-04-22T05:56:55.405257Z",
     "iopub.status.busy": "2022-04-22T05:56:55.404578Z",
     "iopub.status.idle": "2022-04-22T05:56:56.470193Z",
     "shell.execute_reply": "2022-04-22T05:56:56.469279Z"
    },
    "papermill": {
     "duration": 1.117487,
     "end_time": "2022-04-22T05:56:56.472495",
     "exception": false,
     "start_time": "2022-04-22T05:56:55.355008",
     "status": "completed"
    },
    "tags": []
   },
   "outputs": [],
   "source": [
    "import numpy as np \n",
    "import pandas as pd \n",
    "import matplotlib.pyplot as plt\n",
    "import seaborn as sns\n",
    "\n",
    "import os\n",
    "for dirname, _, filenames in os.walk('/kaggle/input'):\n",
    "    for filename in filenames:\n",
    "        print(os.path.join(dirname, filename))"
   ]
  },
  {
   "cell_type": "markdown",
   "id": "df19890f",
   "metadata": {
    "papermill": {
     "duration": 0.047894,
     "end_time": "2022-04-22T05:56:56.570235",
     "exception": false,
     "start_time": "2022-04-22T05:56:56.522341",
     "status": "completed"
    },
    "tags": []
   },
   "source": [
    "### Public Functions\n",
    "here, we'd put all of the public functions to be used in this notebook"
   ]
  },
  {
   "cell_type": "code",
   "execution_count": 28,
   "id": "f7176be2",
   "metadata": {
    "execution": {
     "iopub.execute_input": "2022-04-22T05:56:56.666598Z",
     "iopub.status.busy": "2022-04-22T05:56:56.665875Z",
     "iopub.status.idle": "2022-04-22T05:56:56.672725Z",
     "shell.execute_reply": "2022-04-22T05:56:56.672253Z"
    },
    "papermill": {
     "duration": 0.056405,
     "end_time": "2022-04-22T05:56:56.674459",
     "exception": false,
     "start_time": "2022-04-22T05:56:56.618054",
     "status": "completed"
    },
    "tags": []
   },
   "outputs": [],
   "source": [
    "def catigorize_col (df, col, labels):\n",
    "    \"\"\"\n",
    "    catigorizes a certain column based on its quartiles\n",
    "   \n",
    "    Args:\n",
    "        (df)     df   - dataframe we are proccesing\n",
    "        (col)    str  - to be catigorized column's name \n",
    "        (labels) list - list of labels from min to max\n",
    "    \n",
    "    Returns:\n",
    "        (df)     df   - dataframe with the categorized col\n",
    "    \"\"\"\n",
    "    \n",
    "    # setting the edges to cut the column accordingly\n",
    "    edges = [df[col].describe()['min'],\n",
    "             df[col].describe()['25%'],\n",
    "             df[col].describe()['50%'],\n",
    "             df[col].describe()['75%'],\n",
    "             df[col].describe()['max']]\n",
    "    \n",
    "    df[col] = pd.cut(df[col], edges, labels = labels, duplicates='drop')\n",
    "    return df"
   ]
  },
  {
   "cell_type": "markdown",
   "id": "5e3f26af",
   "metadata": {
    "papermill": {
     "duration": 0.047209,
     "end_time": "2022-04-22T05:56:56.76855",
     "exception": false,
     "start_time": "2022-04-22T05:56:56.721341",
     "status": "completed"
    },
    "tags": []
   },
   "source": [
    "___\n",
    "## Data Wrangling\n",
    "here, we'd load our data from the CSV file, and dive deeper into it to check for any required cleaning steps."
   ]
  },
  {
   "cell_type": "code",
   "execution_count": 29,
   "id": "ae5b0776",
   "metadata": {
    "execution": {
     "iopub.execute_input": "2022-04-22T05:56:56.863422Z",
     "iopub.status.busy": "2022-04-22T05:56:56.86289Z",
     "iopub.status.idle": "2022-04-22T05:56:56.90539Z",
     "shell.execute_reply": "2022-04-22T05:56:56.904596Z"
    },
    "papermill": {
     "duration": 0.092114,
     "end_time": "2022-04-22T05:56:56.907869",
     "exception": false,
     "start_time": "2022-04-22T05:56:56.815755",
     "status": "completed"
    },
    "tags": []
   },
   "outputs": [
    {
     "data": {
      "text/html": [
       "<div>\n",
       "<style scoped>\n",
       "    .dataframe tbody tr th:only-of-type {\n",
       "        vertical-align: middle;\n",
       "    }\n",
       "\n",
       "    .dataframe tbody tr th {\n",
       "        vertical-align: top;\n",
       "    }\n",
       "\n",
       "    .dataframe thead th {\n",
       "        text-align: right;\n",
       "    }\n",
       "</style>\n",
       "<table border=\"1\" class=\"dataframe\">\n",
       "  <thead>\n",
       "    <tr style=\"text-align: right;\">\n",
       "      <th></th>\n",
       "      <th>Unnamed: 0</th>\n",
       "      <th>fixed.acidity</th>\n",
       "      <th>volatile.acidity</th>\n",
       "      <th>citric.acid</th>\n",
       "      <th>residual.sugar</th>\n",
       "      <th>chlorides</th>\n",
       "      <th>free.sulfur.dioxide</th>\n",
       "      <th>total.sulfur.dioxide</th>\n",
       "      <th>density</th>\n",
       "      <th>pH</th>\n",
       "      <th>sulphates</th>\n",
       "      <th>alcohol</th>\n",
       "      <th>quality</th>\n",
       "    </tr>\n",
       "  </thead>\n",
       "  <tbody>\n",
       "    <tr>\n",
       "      <th>0</th>\n",
       "      <td>1</td>\n",
       "      <td>7.4</td>\n",
       "      <td>0.70</td>\n",
       "      <td>0.00</td>\n",
       "      <td>1.9</td>\n",
       "      <td>0.076</td>\n",
       "      <td>11.0</td>\n",
       "      <td>34.0</td>\n",
       "      <td>0.9978</td>\n",
       "      <td>3.51</td>\n",
       "      <td>0.56</td>\n",
       "      <td>9.4</td>\n",
       "      <td>5</td>\n",
       "    </tr>\n",
       "    <tr>\n",
       "      <th>1</th>\n",
       "      <td>2</td>\n",
       "      <td>7.8</td>\n",
       "      <td>0.88</td>\n",
       "      <td>0.00</td>\n",
       "      <td>2.6</td>\n",
       "      <td>0.098</td>\n",
       "      <td>25.0</td>\n",
       "      <td>67.0</td>\n",
       "      <td>0.9968</td>\n",
       "      <td>3.20</td>\n",
       "      <td>0.68</td>\n",
       "      <td>9.8</td>\n",
       "      <td>5</td>\n",
       "    </tr>\n",
       "    <tr>\n",
       "      <th>2</th>\n",
       "      <td>3</td>\n",
       "      <td>7.8</td>\n",
       "      <td>0.76</td>\n",
       "      <td>0.04</td>\n",
       "      <td>2.3</td>\n",
       "      <td>0.092</td>\n",
       "      <td>15.0</td>\n",
       "      <td>54.0</td>\n",
       "      <td>0.9970</td>\n",
       "      <td>3.26</td>\n",
       "      <td>0.65</td>\n",
       "      <td>9.8</td>\n",
       "      <td>5</td>\n",
       "    </tr>\n",
       "    <tr>\n",
       "      <th>3</th>\n",
       "      <td>4</td>\n",
       "      <td>11.2</td>\n",
       "      <td>0.28</td>\n",
       "      <td>0.56</td>\n",
       "      <td>1.9</td>\n",
       "      <td>0.075</td>\n",
       "      <td>17.0</td>\n",
       "      <td>60.0</td>\n",
       "      <td>0.9980</td>\n",
       "      <td>3.16</td>\n",
       "      <td>0.58</td>\n",
       "      <td>9.8</td>\n",
       "      <td>6</td>\n",
       "    </tr>\n",
       "    <tr>\n",
       "      <th>4</th>\n",
       "      <td>5</td>\n",
       "      <td>7.4</td>\n",
       "      <td>0.70</td>\n",
       "      <td>0.00</td>\n",
       "      <td>1.9</td>\n",
       "      <td>0.076</td>\n",
       "      <td>11.0</td>\n",
       "      <td>34.0</td>\n",
       "      <td>0.9978</td>\n",
       "      <td>3.51</td>\n",
       "      <td>0.56</td>\n",
       "      <td>9.4</td>\n",
       "      <td>5</td>\n",
       "    </tr>\n",
       "  </tbody>\n",
       "</table>\n",
       "</div>"
      ],
      "text/plain": [
       "   Unnamed: 0  fixed.acidity  volatile.acidity  citric.acid  residual.sugar  \\\n",
       "0           1            7.4              0.70         0.00             1.9   \n",
       "1           2            7.8              0.88         0.00             2.6   \n",
       "2           3            7.8              0.76         0.04             2.3   \n",
       "3           4           11.2              0.28         0.56             1.9   \n",
       "4           5            7.4              0.70         0.00             1.9   \n",
       "\n",
       "   chlorides  free.sulfur.dioxide  total.sulfur.dioxide  density    pH  \\\n",
       "0      0.076                 11.0                  34.0   0.9978  3.51   \n",
       "1      0.098                 25.0                  67.0   0.9968  3.20   \n",
       "2      0.092                 15.0                  54.0   0.9970  3.26   \n",
       "3      0.075                 17.0                  60.0   0.9980  3.16   \n",
       "4      0.076                 11.0                  34.0   0.9978  3.51   \n",
       "\n",
       "   sulphates  alcohol  quality  \n",
       "0       0.56      9.4        5  \n",
       "1       0.68      9.8        5  \n",
       "2       0.65      9.8        5  \n",
       "3       0.58      9.8        6  \n",
       "4       0.56      9.4        5  "
      ]
     },
     "execution_count": 29,
     "metadata": {},
     "output_type": "execute_result"
    }
   ],
   "source": [
    "# loading red wine data and viewing head\n",
    "df_red = pd.read_csv('/Users/bhuvanms/Documents/Bhuvanmysoresridhar/Wine-Quality-dataset/wineQualityReds.csv')\n",
    "df_red.head()"
   ]
  },
  {
   "cell_type": "code",
   "execution_count": 30,
   "id": "f74ea57c",
   "metadata": {
    "execution": {
     "iopub.execute_input": "2022-04-22T05:56:57.00622Z",
     "iopub.status.busy": "2022-04-22T05:56:57.005245Z",
     "iopub.status.idle": "2022-04-22T05:56:57.043348Z",
     "shell.execute_reply": "2022-04-22T05:56:57.042401Z"
    },
    "papermill": {
     "duration": 0.089411,
     "end_time": "2022-04-22T05:56:57.04538",
     "exception": false,
     "start_time": "2022-04-22T05:56:56.955969",
     "status": "completed"
    },
    "tags": []
   },
   "outputs": [
    {
     "data": {
      "text/html": [
       "<div>\n",
       "<style scoped>\n",
       "    .dataframe tbody tr th:only-of-type {\n",
       "        vertical-align: middle;\n",
       "    }\n",
       "\n",
       "    .dataframe tbody tr th {\n",
       "        vertical-align: top;\n",
       "    }\n",
       "\n",
       "    .dataframe thead th {\n",
       "        text-align: right;\n",
       "    }\n",
       "</style>\n",
       "<table border=\"1\" class=\"dataframe\">\n",
       "  <thead>\n",
       "    <tr style=\"text-align: right;\">\n",
       "      <th></th>\n",
       "      <th>Unnamed: 0</th>\n",
       "      <th>fixed.acidity</th>\n",
       "      <th>volatile.acidity</th>\n",
       "      <th>citric.acid</th>\n",
       "      <th>residual.sugar</th>\n",
       "      <th>chlorides</th>\n",
       "      <th>free.sulfur.dioxide</th>\n",
       "      <th>total.sulfur.dioxide</th>\n",
       "      <th>density</th>\n",
       "      <th>pH</th>\n",
       "      <th>sulphates</th>\n",
       "      <th>alcohol</th>\n",
       "      <th>quality</th>\n",
       "    </tr>\n",
       "  </thead>\n",
       "  <tbody>\n",
       "    <tr>\n",
       "      <th>0</th>\n",
       "      <td>1</td>\n",
       "      <td>7.0</td>\n",
       "      <td>0.27</td>\n",
       "      <td>0.36</td>\n",
       "      <td>20.7</td>\n",
       "      <td>0.045</td>\n",
       "      <td>45.0</td>\n",
       "      <td>170.0</td>\n",
       "      <td>1.0010</td>\n",
       "      <td>3.00</td>\n",
       "      <td>0.45</td>\n",
       "      <td>8.8</td>\n",
       "      <td>6</td>\n",
       "    </tr>\n",
       "    <tr>\n",
       "      <th>1</th>\n",
       "      <td>2</td>\n",
       "      <td>6.3</td>\n",
       "      <td>0.30</td>\n",
       "      <td>0.34</td>\n",
       "      <td>1.6</td>\n",
       "      <td>0.049</td>\n",
       "      <td>14.0</td>\n",
       "      <td>132.0</td>\n",
       "      <td>0.9940</td>\n",
       "      <td>3.30</td>\n",
       "      <td>0.49</td>\n",
       "      <td>9.5</td>\n",
       "      <td>6</td>\n",
       "    </tr>\n",
       "    <tr>\n",
       "      <th>2</th>\n",
       "      <td>3</td>\n",
       "      <td>8.1</td>\n",
       "      <td>0.28</td>\n",
       "      <td>0.40</td>\n",
       "      <td>6.9</td>\n",
       "      <td>0.050</td>\n",
       "      <td>30.0</td>\n",
       "      <td>97.0</td>\n",
       "      <td>0.9951</td>\n",
       "      <td>3.26</td>\n",
       "      <td>0.44</td>\n",
       "      <td>10.1</td>\n",
       "      <td>6</td>\n",
       "    </tr>\n",
       "    <tr>\n",
       "      <th>3</th>\n",
       "      <td>4</td>\n",
       "      <td>7.2</td>\n",
       "      <td>0.23</td>\n",
       "      <td>0.32</td>\n",
       "      <td>8.5</td>\n",
       "      <td>0.058</td>\n",
       "      <td>47.0</td>\n",
       "      <td>186.0</td>\n",
       "      <td>0.9956</td>\n",
       "      <td>3.19</td>\n",
       "      <td>0.40</td>\n",
       "      <td>9.9</td>\n",
       "      <td>6</td>\n",
       "    </tr>\n",
       "    <tr>\n",
       "      <th>4</th>\n",
       "      <td>5</td>\n",
       "      <td>7.2</td>\n",
       "      <td>0.23</td>\n",
       "      <td>0.32</td>\n",
       "      <td>8.5</td>\n",
       "      <td>0.058</td>\n",
       "      <td>47.0</td>\n",
       "      <td>186.0</td>\n",
       "      <td>0.9956</td>\n",
       "      <td>3.19</td>\n",
       "      <td>0.40</td>\n",
       "      <td>9.9</td>\n",
       "      <td>6</td>\n",
       "    </tr>\n",
       "  </tbody>\n",
       "</table>\n",
       "</div>"
      ],
      "text/plain": [
       "   Unnamed: 0  fixed.acidity  volatile.acidity  citric.acid  residual.sugar  \\\n",
       "0           1            7.0              0.27         0.36            20.7   \n",
       "1           2            6.3              0.30         0.34             1.6   \n",
       "2           3            8.1              0.28         0.40             6.9   \n",
       "3           4            7.2              0.23         0.32             8.5   \n",
       "4           5            7.2              0.23         0.32             8.5   \n",
       "\n",
       "   chlorides  free.sulfur.dioxide  total.sulfur.dioxide  density    pH  \\\n",
       "0      0.045                 45.0                 170.0   1.0010  3.00   \n",
       "1      0.049                 14.0                 132.0   0.9940  3.30   \n",
       "2      0.050                 30.0                  97.0   0.9951  3.26   \n",
       "3      0.058                 47.0                 186.0   0.9956  3.19   \n",
       "4      0.058                 47.0                 186.0   0.9956  3.19   \n",
       "\n",
       "   sulphates  alcohol  quality  \n",
       "0       0.45      8.8        6  \n",
       "1       0.49      9.5        6  \n",
       "2       0.44     10.1        6  \n",
       "3       0.40      9.9        6  \n",
       "4       0.40      9.9        6  "
      ]
     },
     "execution_count": 30,
     "metadata": {},
     "output_type": "execute_result"
    }
   ],
   "source": [
    "# loading white wine data and viewing head\n",
    "df_white = pd.read_csv('/Users/bhuvanms/Documents/Bhuvanmysoresridhar/Wine-Quality-dataset/wineQualityWhites.csv')\n",
    "df_white.head()"
   ]
  },
  {
   "cell_type": "code",
   "execution_count": 31,
   "id": "5f6e23da",
   "metadata": {
    "execution": {
     "iopub.execute_input": "2022-04-22T05:56:57.144741Z",
     "iopub.status.busy": "2022-04-22T05:56:57.144484Z",
     "iopub.status.idle": "2022-04-22T05:56:57.167114Z",
     "shell.execute_reply": "2022-04-22T05:56:57.166197Z"
    },
    "papermill": {
     "duration": 0.074645,
     "end_time": "2022-04-22T05:56:57.169448",
     "exception": false,
     "start_time": "2022-04-22T05:56:57.094803",
     "status": "completed"
    },
    "tags": []
   },
   "outputs": [
    {
     "name": "stdout",
     "output_type": "stream",
     "text": [
      "<class 'pandas.core.frame.DataFrame'>\n",
      "RangeIndex: 1599 entries, 0 to 1598\n",
      "Data columns (total 13 columns):\n",
      " #   Column                Non-Null Count  Dtype  \n",
      "---  ------                --------------  -----  \n",
      " 0   Unnamed: 0            1599 non-null   int64  \n",
      " 1   fixed.acidity         1599 non-null   float64\n",
      " 2   volatile.acidity      1599 non-null   float64\n",
      " 3   citric.acid           1599 non-null   float64\n",
      " 4   residual.sugar        1599 non-null   float64\n",
      " 5   chlorides             1599 non-null   float64\n",
      " 6   free.sulfur.dioxide   1599 non-null   float64\n",
      " 7   total.sulfur.dioxide  1599 non-null   float64\n",
      " 8   density               1599 non-null   float64\n",
      " 9   pH                    1599 non-null   float64\n",
      " 10  sulphates             1599 non-null   float64\n",
      " 11  alcohol               1599 non-null   float64\n",
      " 12  quality               1599 non-null   int64  \n",
      "dtypes: float64(11), int64(2)\n",
      "memory usage: 162.5 KB\n"
     ]
    }
   ],
   "source": [
    "df_red.info()"
   ]
  },
  {
   "cell_type": "code",
   "execution_count": 32,
   "id": "77f44b21",
   "metadata": {
    "execution": {
     "iopub.execute_input": "2022-04-22T05:56:57.268567Z",
     "iopub.status.busy": "2022-04-22T05:56:57.268314Z",
     "iopub.status.idle": "2022-04-22T05:56:57.279228Z",
     "shell.execute_reply": "2022-04-22T05:56:57.278295Z"
    },
    "papermill": {
     "duration": 0.062885,
     "end_time": "2022-04-22T05:56:57.281898",
     "exception": false,
     "start_time": "2022-04-22T05:56:57.219013",
     "status": "completed"
    },
    "tags": []
   },
   "outputs": [
    {
     "name": "stdout",
     "output_type": "stream",
     "text": [
      "<class 'pandas.core.frame.DataFrame'>\n",
      "RangeIndex: 4898 entries, 0 to 4897\n",
      "Data columns (total 13 columns):\n",
      " #   Column                Non-Null Count  Dtype  \n",
      "---  ------                --------------  -----  \n",
      " 0   Unnamed: 0            4898 non-null   int64  \n",
      " 1   fixed.acidity         4898 non-null   float64\n",
      " 2   volatile.acidity      4898 non-null   float64\n",
      " 3   citric.acid           4898 non-null   float64\n",
      " 4   residual.sugar        4898 non-null   float64\n",
      " 5   chlorides             4898 non-null   float64\n",
      " 6   free.sulfur.dioxide   4898 non-null   float64\n",
      " 7   total.sulfur.dioxide  4898 non-null   float64\n",
      " 8   density               4898 non-null   float64\n",
      " 9   pH                    4898 non-null   float64\n",
      " 10  sulphates             4898 non-null   float64\n",
      " 11  alcohol               4898 non-null   float64\n",
      " 12  quality               4898 non-null   int64  \n",
      "dtypes: float64(11), int64(2)\n",
      "memory usage: 497.6 KB\n"
     ]
    }
   ],
   "source": [
    "df_white.info()"
   ]
  },
  {
   "cell_type": "code",
   "execution_count": 33,
   "id": "ef6ef93a",
   "metadata": {
    "execution": {
     "iopub.execute_input": "2022-04-22T05:56:57.38366Z",
     "iopub.status.busy": "2022-04-22T05:56:57.382737Z",
     "iopub.status.idle": "2022-04-22T05:56:57.393687Z",
     "shell.execute_reply": "2022-04-22T05:56:57.393114Z"
    },
    "papermill": {
     "duration": 0.06399,
     "end_time": "2022-04-22T05:56:57.395355",
     "exception": false,
     "start_time": "2022-04-22T05:56:57.331365",
     "status": "completed"
    },
    "tags": []
   },
   "outputs": [
    {
     "data": {
      "text/plain": [
       "Unnamed: 0              1599\n",
       "fixed.acidity             96\n",
       "volatile.acidity         143\n",
       "citric.acid               80\n",
       "residual.sugar            91\n",
       "chlorides                153\n",
       "free.sulfur.dioxide       60\n",
       "total.sulfur.dioxide     144\n",
       "density                  436\n",
       "pH                        89\n",
       "sulphates                 96\n",
       "alcohol                   65\n",
       "quality                    6\n",
       "dtype: int64"
      ]
     },
     "execution_count": 33,
     "metadata": {},
     "output_type": "execute_result"
    }
   ],
   "source": [
    "df_red.nunique()"
   ]
  },
  {
   "cell_type": "code",
   "execution_count": 34,
   "id": "89cbe11d",
   "metadata": {
    "execution": {
     "iopub.execute_input": "2022-04-22T05:56:57.499546Z",
     "iopub.status.busy": "2022-04-22T05:56:57.498627Z",
     "iopub.status.idle": "2022-04-22T05:56:57.508174Z",
     "shell.execute_reply": "2022-04-22T05:56:57.50744Z"
    },
    "papermill": {
     "duration": 0.063475,
     "end_time": "2022-04-22T05:56:57.510041",
     "exception": false,
     "start_time": "2022-04-22T05:56:57.446566",
     "status": "completed"
    },
    "tags": []
   },
   "outputs": [
    {
     "data": {
      "text/plain": [
       "Unnamed: 0              4898\n",
       "fixed.acidity             68\n",
       "volatile.acidity         125\n",
       "citric.acid               87\n",
       "residual.sugar           310\n",
       "chlorides                160\n",
       "free.sulfur.dioxide      132\n",
       "total.sulfur.dioxide     251\n",
       "density                  890\n",
       "pH                       103\n",
       "sulphates                 79\n",
       "alcohol                  103\n",
       "quality                    7\n",
       "dtype: int64"
      ]
     },
     "execution_count": 34,
     "metadata": {},
     "output_type": "execute_result"
    }
   ],
   "source": [
    "df_white.nunique()"
   ]
  },
  {
   "cell_type": "code",
   "execution_count": 35,
   "id": "396445f0",
   "metadata": {
    "execution": {
     "iopub.execute_input": "2022-04-22T05:56:57.615046Z",
     "iopub.status.busy": "2022-04-22T05:56:57.614319Z",
     "iopub.status.idle": "2022-04-22T05:56:57.626498Z",
     "shell.execute_reply": "2022-04-22T05:56:57.625375Z"
    },
    "papermill": {
     "duration": 0.066926,
     "end_time": "2022-04-22T05:56:57.628462",
     "exception": false,
     "start_time": "2022-04-22T05:56:57.561536",
     "status": "completed"
    },
    "tags": []
   },
   "outputs": [
    {
     "name": "stdout",
     "output_type": "stream",
     "text": [
      "0 0\n"
     ]
    }
   ],
   "source": [
    "print(df_red.duplicated().sum(), df_white.duplicated().sum())"
   ]
  },
  {
   "cell_type": "markdown",
   "id": "09c681db",
   "metadata": {
    "papermill": {
     "duration": 0.050976,
     "end_time": "2022-04-22T05:56:57.731419",
     "exception": false,
     "start_time": "2022-04-22T05:56:57.680443",
     "status": "completed"
    },
    "tags": []
   },
   "source": [
    "___\n",
    "### Exploration Summery\n",
    "- red dataframe consists of 1599 records and 13 attributes, while white dataframe consists of 4898 records and the same attributes.\n",
    "- both data frames has no NaNs nor duplicated values.\n",
    "- we woul combine the two dataframes and append a new categorical column to indecate the wine color for better analysis.\n",
    "- columns data types are consistant.\n",
    "- `Unnamed: 0` column would be dropped."
   ]
  },
  {
   "cell_type": "markdown",
   "id": "64c41ccb",
   "metadata": {
    "papermill": {
     "duration": 0.051027,
     "end_time": "2022-04-22T05:56:57.833802",
     "exception": false,
     "start_time": "2022-04-22T05:56:57.782775",
     "status": "completed"
    },
    "tags": []
   },
   "source": [
    "___\n",
    "## Data Cleaning\n",
    "here, we'd perform some process into our dataframe in order to make the analysis process easier."
   ]
  },
  {
   "cell_type": "markdown",
   "id": "4c4aaf87",
   "metadata": {
    "papermill": {
     "duration": 0.051884,
     "end_time": "2022-04-22T05:56:57.937381",
     "exception": false,
     "start_time": "2022-04-22T05:56:57.885497",
     "status": "completed"
    },
    "tags": []
   },
   "source": [
    "**Appending new color column and merging dataframes**"
   ]
  },
  {
   "cell_type": "code",
   "execution_count": 36,
   "id": "ff8a5d1e",
   "metadata": {
    "execution": {
     "iopub.execute_input": "2022-04-22T05:56:58.041677Z",
     "iopub.status.busy": "2022-04-22T05:56:58.040875Z",
     "iopub.status.idle": "2022-04-22T05:56:58.045191Z",
     "shell.execute_reply": "2022-04-22T05:56:58.044642Z"
    },
    "papermill": {
     "duration": 0.057845,
     "end_time": "2022-04-22T05:56:58.047029",
     "exception": false,
     "start_time": "2022-04-22T05:56:57.989184",
     "status": "completed"
    },
    "tags": []
   },
   "outputs": [],
   "source": [
    "# create color array for red dataframe\n",
    "color_red = np.repeat('red', df_red.shape[0])\n",
    "\n",
    "# create color array for white dataframe\n",
    "color_white = np.repeat('white', df_white.shape[0])"
   ]
  },
  {
   "cell_type": "code",
   "execution_count": 37,
   "id": "1339ca03",
   "metadata": {
    "execution": {
     "iopub.execute_input": "2022-04-22T05:56:58.150992Z",
     "iopub.status.busy": "2022-04-22T05:56:58.150266Z",
     "iopub.status.idle": "2022-04-22T05:56:58.171371Z",
     "shell.execute_reply": "2022-04-22T05:56:58.170538Z"
    },
    "papermill": {
     "duration": 0.074969,
     "end_time": "2022-04-22T05:56:58.173421",
     "exception": false,
     "start_time": "2022-04-22T05:56:58.098452",
     "status": "completed"
    },
    "tags": []
   },
   "outputs": [
    {
     "data": {
      "text/html": [
       "<div>\n",
       "<style scoped>\n",
       "    .dataframe tbody tr th:only-of-type {\n",
       "        vertical-align: middle;\n",
       "    }\n",
       "\n",
       "    .dataframe tbody tr th {\n",
       "        vertical-align: top;\n",
       "    }\n",
       "\n",
       "    .dataframe thead th {\n",
       "        text-align: right;\n",
       "    }\n",
       "</style>\n",
       "<table border=\"1\" class=\"dataframe\">\n",
       "  <thead>\n",
       "    <tr style=\"text-align: right;\">\n",
       "      <th></th>\n",
       "      <th>Unnamed: 0</th>\n",
       "      <th>fixed.acidity</th>\n",
       "      <th>volatile.acidity</th>\n",
       "      <th>citric.acid</th>\n",
       "      <th>residual.sugar</th>\n",
       "      <th>chlorides</th>\n",
       "      <th>free.sulfur.dioxide</th>\n",
       "      <th>total.sulfur.dioxide</th>\n",
       "      <th>density</th>\n",
       "      <th>pH</th>\n",
       "      <th>sulphates</th>\n",
       "      <th>alcohol</th>\n",
       "      <th>quality</th>\n",
       "      <th>color</th>\n",
       "    </tr>\n",
       "  </thead>\n",
       "  <tbody>\n",
       "    <tr>\n",
       "      <th>0</th>\n",
       "      <td>1</td>\n",
       "      <td>7.4</td>\n",
       "      <td>0.70</td>\n",
       "      <td>0.00</td>\n",
       "      <td>1.9</td>\n",
       "      <td>0.076</td>\n",
       "      <td>11.0</td>\n",
       "      <td>34.0</td>\n",
       "      <td>0.9978</td>\n",
       "      <td>3.51</td>\n",
       "      <td>0.56</td>\n",
       "      <td>9.4</td>\n",
       "      <td>5</td>\n",
       "      <td>red</td>\n",
       "    </tr>\n",
       "    <tr>\n",
       "      <th>1</th>\n",
       "      <td>2</td>\n",
       "      <td>7.8</td>\n",
       "      <td>0.88</td>\n",
       "      <td>0.00</td>\n",
       "      <td>2.6</td>\n",
       "      <td>0.098</td>\n",
       "      <td>25.0</td>\n",
       "      <td>67.0</td>\n",
       "      <td>0.9968</td>\n",
       "      <td>3.20</td>\n",
       "      <td>0.68</td>\n",
       "      <td>9.8</td>\n",
       "      <td>5</td>\n",
       "      <td>red</td>\n",
       "    </tr>\n",
       "    <tr>\n",
       "      <th>2</th>\n",
       "      <td>3</td>\n",
       "      <td>7.8</td>\n",
       "      <td>0.76</td>\n",
       "      <td>0.04</td>\n",
       "      <td>2.3</td>\n",
       "      <td>0.092</td>\n",
       "      <td>15.0</td>\n",
       "      <td>54.0</td>\n",
       "      <td>0.9970</td>\n",
       "      <td>3.26</td>\n",
       "      <td>0.65</td>\n",
       "      <td>9.8</td>\n",
       "      <td>5</td>\n",
       "      <td>red</td>\n",
       "    </tr>\n",
       "    <tr>\n",
       "      <th>3</th>\n",
       "      <td>4</td>\n",
       "      <td>11.2</td>\n",
       "      <td>0.28</td>\n",
       "      <td>0.56</td>\n",
       "      <td>1.9</td>\n",
       "      <td>0.075</td>\n",
       "      <td>17.0</td>\n",
       "      <td>60.0</td>\n",
       "      <td>0.9980</td>\n",
       "      <td>3.16</td>\n",
       "      <td>0.58</td>\n",
       "      <td>9.8</td>\n",
       "      <td>6</td>\n",
       "      <td>red</td>\n",
       "    </tr>\n",
       "    <tr>\n",
       "      <th>4</th>\n",
       "      <td>5</td>\n",
       "      <td>7.4</td>\n",
       "      <td>0.70</td>\n",
       "      <td>0.00</td>\n",
       "      <td>1.9</td>\n",
       "      <td>0.076</td>\n",
       "      <td>11.0</td>\n",
       "      <td>34.0</td>\n",
       "      <td>0.9978</td>\n",
       "      <td>3.51</td>\n",
       "      <td>0.56</td>\n",
       "      <td>9.4</td>\n",
       "      <td>5</td>\n",
       "      <td>red</td>\n",
       "    </tr>\n",
       "  </tbody>\n",
       "</table>\n",
       "</div>"
      ],
      "text/plain": [
       "   Unnamed: 0  fixed.acidity  volatile.acidity  citric.acid  residual.sugar  \\\n",
       "0           1            7.4              0.70         0.00             1.9   \n",
       "1           2            7.8              0.88         0.00             2.6   \n",
       "2           3            7.8              0.76         0.04             2.3   \n",
       "3           4           11.2              0.28         0.56             1.9   \n",
       "4           5            7.4              0.70         0.00             1.9   \n",
       "\n",
       "   chlorides  free.sulfur.dioxide  total.sulfur.dioxide  density    pH  \\\n",
       "0      0.076                 11.0                  34.0   0.9978  3.51   \n",
       "1      0.098                 25.0                  67.0   0.9968  3.20   \n",
       "2      0.092                 15.0                  54.0   0.9970  3.26   \n",
       "3      0.075                 17.0                  60.0   0.9980  3.16   \n",
       "4      0.076                 11.0                  34.0   0.9978  3.51   \n",
       "\n",
       "   sulphates  alcohol  quality color  \n",
       "0       0.56      9.4        5   red  \n",
       "1       0.68      9.8        5   red  \n",
       "2       0.65      9.8        5   red  \n",
       "3       0.58      9.8        6   red  \n",
       "4       0.56      9.4        5   red  "
      ]
     },
     "execution_count": 37,
     "metadata": {},
     "output_type": "execute_result"
    }
   ],
   "source": [
    "# appending new column and confirming changes\n",
    "df_red['color'] = color_red\n",
    "df_red.head()"
   ]
  },
  {
   "cell_type": "code",
   "execution_count": 38,
   "id": "2fc0fb3a",
   "metadata": {
    "execution": {
     "iopub.execute_input": "2022-04-22T05:56:58.277406Z",
     "iopub.status.busy": "2022-04-22T05:56:58.277102Z",
     "iopub.status.idle": "2022-04-22T05:56:58.300022Z",
     "shell.execute_reply": "2022-04-22T05:56:58.299201Z"
    },
    "papermill": {
     "duration": 0.077046,
     "end_time": "2022-04-22T05:56:58.301819",
     "exception": false,
     "start_time": "2022-04-22T05:56:58.224773",
     "status": "completed"
    },
    "tags": []
   },
   "outputs": [
    {
     "data": {
      "text/html": [
       "<div>\n",
       "<style scoped>\n",
       "    .dataframe tbody tr th:only-of-type {\n",
       "        vertical-align: middle;\n",
       "    }\n",
       "\n",
       "    .dataframe tbody tr th {\n",
       "        vertical-align: top;\n",
       "    }\n",
       "\n",
       "    .dataframe thead th {\n",
       "        text-align: right;\n",
       "    }\n",
       "</style>\n",
       "<table border=\"1\" class=\"dataframe\">\n",
       "  <thead>\n",
       "    <tr style=\"text-align: right;\">\n",
       "      <th></th>\n",
       "      <th>Unnamed: 0</th>\n",
       "      <th>fixed.acidity</th>\n",
       "      <th>volatile.acidity</th>\n",
       "      <th>citric.acid</th>\n",
       "      <th>residual.sugar</th>\n",
       "      <th>chlorides</th>\n",
       "      <th>free.sulfur.dioxide</th>\n",
       "      <th>total.sulfur.dioxide</th>\n",
       "      <th>density</th>\n",
       "      <th>pH</th>\n",
       "      <th>sulphates</th>\n",
       "      <th>alcohol</th>\n",
       "      <th>quality</th>\n",
       "      <th>color</th>\n",
       "    </tr>\n",
       "  </thead>\n",
       "  <tbody>\n",
       "    <tr>\n",
       "      <th>0</th>\n",
       "      <td>1</td>\n",
       "      <td>7.0</td>\n",
       "      <td>0.27</td>\n",
       "      <td>0.36</td>\n",
       "      <td>20.7</td>\n",
       "      <td>0.045</td>\n",
       "      <td>45.0</td>\n",
       "      <td>170.0</td>\n",
       "      <td>1.0010</td>\n",
       "      <td>3.00</td>\n",
       "      <td>0.45</td>\n",
       "      <td>8.8</td>\n",
       "      <td>6</td>\n",
       "      <td>white</td>\n",
       "    </tr>\n",
       "    <tr>\n",
       "      <th>1</th>\n",
       "      <td>2</td>\n",
       "      <td>6.3</td>\n",
       "      <td>0.30</td>\n",
       "      <td>0.34</td>\n",
       "      <td>1.6</td>\n",
       "      <td>0.049</td>\n",
       "      <td>14.0</td>\n",
       "      <td>132.0</td>\n",
       "      <td>0.9940</td>\n",
       "      <td>3.30</td>\n",
       "      <td>0.49</td>\n",
       "      <td>9.5</td>\n",
       "      <td>6</td>\n",
       "      <td>white</td>\n",
       "    </tr>\n",
       "    <tr>\n",
       "      <th>2</th>\n",
       "      <td>3</td>\n",
       "      <td>8.1</td>\n",
       "      <td>0.28</td>\n",
       "      <td>0.40</td>\n",
       "      <td>6.9</td>\n",
       "      <td>0.050</td>\n",
       "      <td>30.0</td>\n",
       "      <td>97.0</td>\n",
       "      <td>0.9951</td>\n",
       "      <td>3.26</td>\n",
       "      <td>0.44</td>\n",
       "      <td>10.1</td>\n",
       "      <td>6</td>\n",
       "      <td>white</td>\n",
       "    </tr>\n",
       "    <tr>\n",
       "      <th>3</th>\n",
       "      <td>4</td>\n",
       "      <td>7.2</td>\n",
       "      <td>0.23</td>\n",
       "      <td>0.32</td>\n",
       "      <td>8.5</td>\n",
       "      <td>0.058</td>\n",
       "      <td>47.0</td>\n",
       "      <td>186.0</td>\n",
       "      <td>0.9956</td>\n",
       "      <td>3.19</td>\n",
       "      <td>0.40</td>\n",
       "      <td>9.9</td>\n",
       "      <td>6</td>\n",
       "      <td>white</td>\n",
       "    </tr>\n",
       "    <tr>\n",
       "      <th>4</th>\n",
       "      <td>5</td>\n",
       "      <td>7.2</td>\n",
       "      <td>0.23</td>\n",
       "      <td>0.32</td>\n",
       "      <td>8.5</td>\n",
       "      <td>0.058</td>\n",
       "      <td>47.0</td>\n",
       "      <td>186.0</td>\n",
       "      <td>0.9956</td>\n",
       "      <td>3.19</td>\n",
       "      <td>0.40</td>\n",
       "      <td>9.9</td>\n",
       "      <td>6</td>\n",
       "      <td>white</td>\n",
       "    </tr>\n",
       "  </tbody>\n",
       "</table>\n",
       "</div>"
      ],
      "text/plain": [
       "   Unnamed: 0  fixed.acidity  volatile.acidity  citric.acid  residual.sugar  \\\n",
       "0           1            7.0              0.27         0.36            20.7   \n",
       "1           2            6.3              0.30         0.34             1.6   \n",
       "2           3            8.1              0.28         0.40             6.9   \n",
       "3           4            7.2              0.23         0.32             8.5   \n",
       "4           5            7.2              0.23         0.32             8.5   \n",
       "\n",
       "   chlorides  free.sulfur.dioxide  total.sulfur.dioxide  density    pH  \\\n",
       "0      0.045                 45.0                 170.0   1.0010  3.00   \n",
       "1      0.049                 14.0                 132.0   0.9940  3.30   \n",
       "2      0.050                 30.0                  97.0   0.9951  3.26   \n",
       "3      0.058                 47.0                 186.0   0.9956  3.19   \n",
       "4      0.058                 47.0                 186.0   0.9956  3.19   \n",
       "\n",
       "   sulphates  alcohol  quality  color  \n",
       "0       0.45      8.8        6  white  \n",
       "1       0.49      9.5        6  white  \n",
       "2       0.44     10.1        6  white  \n",
       "3       0.40      9.9        6  white  \n",
       "4       0.40      9.9        6  white  "
      ]
     },
     "execution_count": 38,
     "metadata": {},
     "output_type": "execute_result"
    }
   ],
   "source": [
    "# appending new column and confirming changes\n",
    "df_white['color'] = color_white\n",
    "df_white.head()"
   ]
  },
  {
   "cell_type": "markdown",
   "id": "7f64eba4",
   "metadata": {
    "papermill": {
     "duration": 0.053308,
     "end_time": "2022-04-22T05:56:58.408031",
     "exception": false,
     "start_time": "2022-04-22T05:56:58.354723",
     "status": "completed"
    },
    "tags": []
   },
   "source": [
    "Now that we have two dataframes with extra column indicating their color, let's move into appending them into a new dataframe and save it."
   ]
  },
  {
   "cell_type": "code",
   "execution_count": 39,
   "id": "acc0c8b7",
   "metadata": {
    "execution": {
     "iopub.execute_input": "2022-04-22T05:56:58.515058Z",
     "iopub.status.busy": "2022-04-22T05:56:58.514231Z",
     "iopub.status.idle": "2022-04-22T05:56:58.538328Z",
     "shell.execute_reply": "2022-04-22T05:56:58.537743Z"
    },
    "papermill": {
     "duration": 0.079444,
     "end_time": "2022-04-22T05:56:58.540009",
     "exception": false,
     "start_time": "2022-04-22T05:56:58.460565",
     "status": "completed"
    },
    "tags": []
   },
   "outputs": [
    {
     "data": {
      "text/html": [
       "<div>\n",
       "<style scoped>\n",
       "    .dataframe tbody tr th:only-of-type {\n",
       "        vertical-align: middle;\n",
       "    }\n",
       "\n",
       "    .dataframe tbody tr th {\n",
       "        vertical-align: top;\n",
       "    }\n",
       "\n",
       "    .dataframe thead th {\n",
       "        text-align: right;\n",
       "    }\n",
       "</style>\n",
       "<table border=\"1\" class=\"dataframe\">\n",
       "  <thead>\n",
       "    <tr style=\"text-align: right;\">\n",
       "      <th></th>\n",
       "      <th>Unnamed: 0</th>\n",
       "      <th>fixed.acidity</th>\n",
       "      <th>volatile.acidity</th>\n",
       "      <th>citric.acid</th>\n",
       "      <th>residual.sugar</th>\n",
       "      <th>chlorides</th>\n",
       "      <th>free.sulfur.dioxide</th>\n",
       "      <th>total.sulfur.dioxide</th>\n",
       "      <th>density</th>\n",
       "      <th>pH</th>\n",
       "      <th>sulphates</th>\n",
       "      <th>alcohol</th>\n",
       "      <th>quality</th>\n",
       "      <th>color</th>\n",
       "    </tr>\n",
       "  </thead>\n",
       "  <tbody>\n",
       "    <tr>\n",
       "      <th>0</th>\n",
       "      <td>1</td>\n",
       "      <td>7.0</td>\n",
       "      <td>0.27</td>\n",
       "      <td>0.36</td>\n",
       "      <td>20.7</td>\n",
       "      <td>0.045</td>\n",
       "      <td>45.0</td>\n",
       "      <td>170.0</td>\n",
       "      <td>1.0010</td>\n",
       "      <td>3.00</td>\n",
       "      <td>0.45</td>\n",
       "      <td>8.8</td>\n",
       "      <td>6</td>\n",
       "      <td>white</td>\n",
       "    </tr>\n",
       "    <tr>\n",
       "      <th>1</th>\n",
       "      <td>2</td>\n",
       "      <td>6.3</td>\n",
       "      <td>0.30</td>\n",
       "      <td>0.34</td>\n",
       "      <td>1.6</td>\n",
       "      <td>0.049</td>\n",
       "      <td>14.0</td>\n",
       "      <td>132.0</td>\n",
       "      <td>0.9940</td>\n",
       "      <td>3.30</td>\n",
       "      <td>0.49</td>\n",
       "      <td>9.5</td>\n",
       "      <td>6</td>\n",
       "      <td>white</td>\n",
       "    </tr>\n",
       "    <tr>\n",
       "      <th>2</th>\n",
       "      <td>3</td>\n",
       "      <td>8.1</td>\n",
       "      <td>0.28</td>\n",
       "      <td>0.40</td>\n",
       "      <td>6.9</td>\n",
       "      <td>0.050</td>\n",
       "      <td>30.0</td>\n",
       "      <td>97.0</td>\n",
       "      <td>0.9951</td>\n",
       "      <td>3.26</td>\n",
       "      <td>0.44</td>\n",
       "      <td>10.1</td>\n",
       "      <td>6</td>\n",
       "      <td>white</td>\n",
       "    </tr>\n",
       "    <tr>\n",
       "      <th>3</th>\n",
       "      <td>4</td>\n",
       "      <td>7.2</td>\n",
       "      <td>0.23</td>\n",
       "      <td>0.32</td>\n",
       "      <td>8.5</td>\n",
       "      <td>0.058</td>\n",
       "      <td>47.0</td>\n",
       "      <td>186.0</td>\n",
       "      <td>0.9956</td>\n",
       "      <td>3.19</td>\n",
       "      <td>0.40</td>\n",
       "      <td>9.9</td>\n",
       "      <td>6</td>\n",
       "      <td>white</td>\n",
       "    </tr>\n",
       "    <tr>\n",
       "      <th>4</th>\n",
       "      <td>5</td>\n",
       "      <td>7.2</td>\n",
       "      <td>0.23</td>\n",
       "      <td>0.32</td>\n",
       "      <td>8.5</td>\n",
       "      <td>0.058</td>\n",
       "      <td>47.0</td>\n",
       "      <td>186.0</td>\n",
       "      <td>0.9956</td>\n",
       "      <td>3.19</td>\n",
       "      <td>0.40</td>\n",
       "      <td>9.9</td>\n",
       "      <td>6</td>\n",
       "      <td>white</td>\n",
       "    </tr>\n",
       "  </tbody>\n",
       "</table>\n",
       "</div>"
      ],
      "text/plain": [
       "   Unnamed: 0  fixed.acidity  volatile.acidity  citric.acid  residual.sugar  \\\n",
       "0           1            7.0              0.27         0.36            20.7   \n",
       "1           2            6.3              0.30         0.34             1.6   \n",
       "2           3            8.1              0.28         0.40             6.9   \n",
       "3           4            7.2              0.23         0.32             8.5   \n",
       "4           5            7.2              0.23         0.32             8.5   \n",
       "\n",
       "   chlorides  free.sulfur.dioxide  total.sulfur.dioxide  density    pH  \\\n",
       "0      0.045                 45.0                 170.0   1.0010  3.00   \n",
       "1      0.049                 14.0                 132.0   0.9940  3.30   \n",
       "2      0.050                 30.0                  97.0   0.9951  3.26   \n",
       "3      0.058                 47.0                 186.0   0.9956  3.19   \n",
       "4      0.058                 47.0                 186.0   0.9956  3.19   \n",
       "\n",
       "   sulphates  alcohol  quality  color  \n",
       "0       0.45      8.8        6  white  \n",
       "1       0.49      9.5        6  white  \n",
       "2       0.44     10.1        6  white  \n",
       "3       0.40      9.9        6  white  \n",
       "4       0.40      9.9        6  white  "
      ]
     },
     "execution_count": 39,
     "metadata": {},
     "output_type": "execute_result"
    }
   ],
   "source": [
    "# append dataframes and confirm changes\n",
    "wine_df = pd.concat([df_white, df_red], axis = 0, ignore_index = True)\n",
    "wine_df.head()"
   ]
  },
  {
   "cell_type": "code",
   "execution_count": 40,
   "id": "420fcf55",
   "metadata": {
    "execution": {
     "iopub.execute_input": "2022-04-22T05:56:58.649092Z",
     "iopub.status.busy": "2022-04-22T05:56:58.648575Z",
     "iopub.status.idle": "2022-04-22T05:56:58.659876Z",
     "shell.execute_reply": "2022-04-22T05:56:58.659031Z"
    },
    "papermill": {
     "duration": 0.06805,
     "end_time": "2022-04-22T05:56:58.661679",
     "exception": false,
     "start_time": "2022-04-22T05:56:58.593629",
     "status": "completed"
    },
    "tags": []
   },
   "outputs": [
    {
     "data": {
      "text/plain": [
       "0"
      ]
     },
     "execution_count": 40,
     "metadata": {},
     "output_type": "execute_result"
    }
   ],
   "source": [
    "wine_df.duplicated().sum()"
   ]
  },
  {
   "cell_type": "code",
   "execution_count": 41,
   "id": "44223534",
   "metadata": {
    "execution": {
     "iopub.execute_input": "2022-04-22T05:56:58.770623Z",
     "iopub.status.busy": "2022-04-22T05:56:58.770117Z",
     "iopub.status.idle": "2022-04-22T05:56:58.77749Z",
     "shell.execute_reply": "2022-04-22T05:56:58.776627Z"
    },
    "papermill": {
     "duration": 0.064578,
     "end_time": "2022-04-22T05:56:58.779373",
     "exception": false,
     "start_time": "2022-04-22T05:56:58.714795",
     "status": "completed"
    },
    "tags": []
   },
   "outputs": [
    {
     "data": {
      "text/plain": [
       "CategoricalDtype(categories=['red', 'white'], ordered=False, categories_dtype=object)"
      ]
     },
     "execution_count": 41,
     "metadata": {},
     "output_type": "execute_result"
    }
   ],
   "source": [
    "# casting color column and confirming changes\n",
    "wine_df['color'] = wine_df['color'].astype('category')\n",
    "wine_df['color'].dtype"
   ]
  },
  {
   "cell_type": "markdown",
   "id": "cbd6f47f",
   "metadata": {
    "papermill": {
     "duration": 0.052664,
     "end_time": "2022-04-22T05:56:58.886695",
     "exception": false,
     "start_time": "2022-04-22T05:56:58.834031",
     "status": "completed"
    },
    "tags": []
   },
   "source": [
    "___\n",
    "**Dropping `Unnamed: 0` column**"
   ]
  },
  {
   "cell_type": "code",
   "execution_count": 42,
   "id": "3e004159",
   "metadata": {
    "execution": {
     "iopub.execute_input": "2022-04-22T05:56:58.992055Z",
     "iopub.status.busy": "2022-04-22T05:56:58.991792Z",
     "iopub.status.idle": "2022-04-22T05:56:59.013186Z",
     "shell.execute_reply": "2022-04-22T05:56:59.012673Z"
    },
    "papermill": {
     "duration": 0.076829,
     "end_time": "2022-04-22T05:56:59.015292",
     "exception": false,
     "start_time": "2022-04-22T05:56:58.938463",
     "status": "completed"
    },
    "tags": []
   },
   "outputs": [
    {
     "data": {
      "text/html": [
       "<div>\n",
       "<style scoped>\n",
       "    .dataframe tbody tr th:only-of-type {\n",
       "        vertical-align: middle;\n",
       "    }\n",
       "\n",
       "    .dataframe tbody tr th {\n",
       "        vertical-align: top;\n",
       "    }\n",
       "\n",
       "    .dataframe thead th {\n",
       "        text-align: right;\n",
       "    }\n",
       "</style>\n",
       "<table border=\"1\" class=\"dataframe\">\n",
       "  <thead>\n",
       "    <tr style=\"text-align: right;\">\n",
       "      <th></th>\n",
       "      <th>fixed.acidity</th>\n",
       "      <th>volatile.acidity</th>\n",
       "      <th>citric.acid</th>\n",
       "      <th>residual.sugar</th>\n",
       "      <th>chlorides</th>\n",
       "      <th>free.sulfur.dioxide</th>\n",
       "      <th>total.sulfur.dioxide</th>\n",
       "      <th>density</th>\n",
       "      <th>pH</th>\n",
       "      <th>sulphates</th>\n",
       "      <th>alcohol</th>\n",
       "      <th>quality</th>\n",
       "      <th>color</th>\n",
       "    </tr>\n",
       "  </thead>\n",
       "  <tbody>\n",
       "    <tr>\n",
       "      <th>0</th>\n",
       "      <td>7.0</td>\n",
       "      <td>0.27</td>\n",
       "      <td>0.36</td>\n",
       "      <td>20.7</td>\n",
       "      <td>0.045</td>\n",
       "      <td>45.0</td>\n",
       "      <td>170.0</td>\n",
       "      <td>1.0010</td>\n",
       "      <td>3.00</td>\n",
       "      <td>0.45</td>\n",
       "      <td>8.8</td>\n",
       "      <td>6</td>\n",
       "      <td>white</td>\n",
       "    </tr>\n",
       "    <tr>\n",
       "      <th>1</th>\n",
       "      <td>6.3</td>\n",
       "      <td>0.30</td>\n",
       "      <td>0.34</td>\n",
       "      <td>1.6</td>\n",
       "      <td>0.049</td>\n",
       "      <td>14.0</td>\n",
       "      <td>132.0</td>\n",
       "      <td>0.9940</td>\n",
       "      <td>3.30</td>\n",
       "      <td>0.49</td>\n",
       "      <td>9.5</td>\n",
       "      <td>6</td>\n",
       "      <td>white</td>\n",
       "    </tr>\n",
       "    <tr>\n",
       "      <th>2</th>\n",
       "      <td>8.1</td>\n",
       "      <td>0.28</td>\n",
       "      <td>0.40</td>\n",
       "      <td>6.9</td>\n",
       "      <td>0.050</td>\n",
       "      <td>30.0</td>\n",
       "      <td>97.0</td>\n",
       "      <td>0.9951</td>\n",
       "      <td>3.26</td>\n",
       "      <td>0.44</td>\n",
       "      <td>10.1</td>\n",
       "      <td>6</td>\n",
       "      <td>white</td>\n",
       "    </tr>\n",
       "    <tr>\n",
       "      <th>3</th>\n",
       "      <td>7.2</td>\n",
       "      <td>0.23</td>\n",
       "      <td>0.32</td>\n",
       "      <td>8.5</td>\n",
       "      <td>0.058</td>\n",
       "      <td>47.0</td>\n",
       "      <td>186.0</td>\n",
       "      <td>0.9956</td>\n",
       "      <td>3.19</td>\n",
       "      <td>0.40</td>\n",
       "      <td>9.9</td>\n",
       "      <td>6</td>\n",
       "      <td>white</td>\n",
       "    </tr>\n",
       "    <tr>\n",
       "      <th>4</th>\n",
       "      <td>7.2</td>\n",
       "      <td>0.23</td>\n",
       "      <td>0.32</td>\n",
       "      <td>8.5</td>\n",
       "      <td>0.058</td>\n",
       "      <td>47.0</td>\n",
       "      <td>186.0</td>\n",
       "      <td>0.9956</td>\n",
       "      <td>3.19</td>\n",
       "      <td>0.40</td>\n",
       "      <td>9.9</td>\n",
       "      <td>6</td>\n",
       "      <td>white</td>\n",
       "    </tr>\n",
       "  </tbody>\n",
       "</table>\n",
       "</div>"
      ],
      "text/plain": [
       "   fixed.acidity  volatile.acidity  citric.acid  residual.sugar  chlorides  \\\n",
       "0            7.0              0.27         0.36            20.7      0.045   \n",
       "1            6.3              0.30         0.34             1.6      0.049   \n",
       "2            8.1              0.28         0.40             6.9      0.050   \n",
       "3            7.2              0.23         0.32             8.5      0.058   \n",
       "4            7.2              0.23         0.32             8.5      0.058   \n",
       "\n",
       "   free.sulfur.dioxide  total.sulfur.dioxide  density    pH  sulphates  \\\n",
       "0                 45.0                 170.0   1.0010  3.00       0.45   \n",
       "1                 14.0                 132.0   0.9940  3.30       0.49   \n",
       "2                 30.0                  97.0   0.9951  3.26       0.44   \n",
       "3                 47.0                 186.0   0.9956  3.19       0.40   \n",
       "4                 47.0                 186.0   0.9956  3.19       0.40   \n",
       "\n",
       "   alcohol  quality  color  \n",
       "0      8.8        6  white  \n",
       "1      9.5        6  white  \n",
       "2     10.1        6  white  \n",
       "3      9.9        6  white  \n",
       "4      9.9        6  white  "
      ]
     },
     "execution_count": 42,
     "metadata": {},
     "output_type": "execute_result"
    }
   ],
   "source": [
    "# dropping column and confirming changes\n",
    "wine_df.drop('Unnamed: 0', axis = 1, inplace = True)\n",
    "wine_df.head()"
   ]
  },
  {
   "cell_type": "code",
   "execution_count": 43,
   "id": "89ad3d45",
   "metadata": {
    "execution": {
     "iopub.execute_input": "2022-04-22T05:56:59.12486Z",
     "iopub.status.busy": "2022-04-22T05:56:59.124372Z",
     "iopub.status.idle": "2022-04-22T05:56:59.136474Z",
     "shell.execute_reply": "2022-04-22T05:56:59.135545Z"
    },
    "papermill": {
     "duration": 0.067838,
     "end_time": "2022-04-22T05:56:59.138424",
     "exception": false,
     "start_time": "2022-04-22T05:56:59.070586",
     "status": "completed"
    },
    "tags": []
   },
   "outputs": [
    {
     "name": "stdout",
     "output_type": "stream",
     "text": [
      "<class 'pandas.core.frame.DataFrame'>\n",
      "RangeIndex: 6497 entries, 0 to 6496\n",
      "Data columns (total 13 columns):\n",
      " #   Column                Non-Null Count  Dtype   \n",
      "---  ------                --------------  -----   \n",
      " 0   fixed.acidity         6497 non-null   float64 \n",
      " 1   volatile.acidity      6497 non-null   float64 \n",
      " 2   citric.acid           6497 non-null   float64 \n",
      " 3   residual.sugar        6497 non-null   float64 \n",
      " 4   chlorides             6497 non-null   float64 \n",
      " 5   free.sulfur.dioxide   6497 non-null   float64 \n",
      " 6   total.sulfur.dioxide  6497 non-null   float64 \n",
      " 7   density               6497 non-null   float64 \n",
      " 8   pH                    6497 non-null   float64 \n",
      " 9   sulphates             6497 non-null   float64 \n",
      " 10  alcohol               6497 non-null   float64 \n",
      " 11  quality               6497 non-null   int64   \n",
      " 12  color                 6497 non-null   category\n",
      "dtypes: category(1), float64(11), int64(1)\n",
      "memory usage: 615.7 KB\n"
     ]
    }
   ],
   "source": [
    "wine_df.info()"
   ]
  },
  {
   "cell_type": "code",
   "execution_count": 44,
   "id": "28c28a70",
   "metadata": {
    "execution": {
     "iopub.execute_input": "2022-04-22T05:56:59.249546Z",
     "iopub.status.busy": "2022-04-22T05:56:59.248951Z",
     "iopub.status.idle": "2022-04-22T05:56:59.327382Z",
     "shell.execute_reply": "2022-04-22T05:56:59.32661Z"
    },
    "papermill": {
     "duration": 0.136891,
     "end_time": "2022-04-22T05:56:59.32979",
     "exception": false,
     "start_time": "2022-04-22T05:56:59.192899",
     "status": "completed"
    },
    "tags": []
   },
   "outputs": [],
   "source": [
    "wine_df.to_csv('wine_full.csv', index = False)"
   ]
  },
  {
   "cell_type": "markdown",
   "id": "91f26ab7",
   "metadata": {
    "papermill": {
     "duration": 0.0543,
     "end_time": "2022-04-22T05:56:59.438148",
     "exception": false,
     "start_time": "2022-04-22T05:56:59.383848",
     "status": "completed"
    },
    "tags": []
   },
   "source": [
    "- Now that our data is tidy and clean, we are left with 13 columns and 6497 rows for our data to begin the analysis with. a new csv file containing our full data is saved in `wine_full.csv`.\n"
   ]
  },
  {
   "cell_type": "markdown",
   "id": "1b8cfbd0",
   "metadata": {
    "papermill": {
     "duration": 0.055213,
     "end_time": "2022-04-22T05:56:59.547638",
     "exception": false,
     "start_time": "2022-04-22T05:56:59.492425",
     "status": "completed"
    },
    "tags": []
   },
   "source": [
    "___\n",
    "## Data Visualization and EDA\n",
    "In this section, we'd use summery statistics along with libraries like `matplotlib` and `seaborn` to gain informative insights about our data and answer the EDA questions.\n"
   ]
  },
  {
   "cell_type": "code",
   "execution_count": 45,
   "id": "9d81a10c",
   "metadata": {
    "execution": {
     "iopub.execute_input": "2022-04-22T05:56:59.659224Z",
     "iopub.status.busy": "2022-04-22T05:56:59.658759Z",
     "iopub.status.idle": "2022-04-22T05:56:59.662009Z",
     "shell.execute_reply": "2022-04-22T05:56:59.661513Z"
    },
    "papermill": {
     "duration": 0.060707,
     "end_time": "2022-04-22T05:56:59.663566",
     "exception": false,
     "start_time": "2022-04-22T05:56:59.602859",
     "status": "completed"
    },
    "tags": []
   },
   "outputs": [],
   "source": [
    "# setting up seaborn configurations\n",
    "sns.set_style('whitegrid') "
   ]
  },
  {
   "cell_type": "markdown",
   "id": "1d45e368",
   "metadata": {
    "papermill": {
     "duration": 0.055459,
     "end_time": "2022-04-22T05:56:59.774223",
     "exception": false,
     "start_time": "2022-04-22T05:56:59.718764",
     "status": "completed"
    },
    "tags": []
   },
   "source": [
    "### Q1: What chemical characteristics are most important in predicting the quality of wine?"
   ]
  },
  {
   "cell_type": "code",
   "execution_count": 46,
   "id": "406e0516",
   "metadata": {
    "execution": {
     "iopub.execute_input": "2022-04-22T05:56:59.886295Z",
     "iopub.status.busy": "2022-04-22T05:56:59.885806Z",
     "iopub.status.idle": "2022-04-22T05:57:00.530043Z",
     "shell.execute_reply": "2022-04-22T05:57:00.529393Z"
    },
    "papermill": {
     "duration": 0.702339,
     "end_time": "2022-04-22T05:57:00.532036",
     "exception": false,
     "start_time": "2022-04-22T05:56:59.829697",
     "status": "completed"
    },
    "tags": []
   },
   "outputs": [
    {
     "data": {
      "image/png": "[encoded data removed]",
      "text/plain": [
       "<Figure size 1200x600 with 2 Axes>"
      ]
     },
     "metadata": {},
     "output_type": "display_data"
    }
   ],
   "source": [
    "# plotting correlation heatmap\n",
    "plt.figure(figsize=(12,6))\n",
    "corr = corr = wine_df.select_dtypes(include=[np.number]).corr()\n",
    "mask = np.triu(corr)\n",
    "sns.heatmap(corr, annot= True, mask= mask, fmt = '.2f')\n",
    "plt.title(\"correlation between attributes\")\n",
    "plt.show()"
   ]
  },
  {
   "cell_type": "markdown",
   "id": "e40b5671",
   "metadata": {
    "papermill": {
     "duration": 0.057947,
     "end_time": "2022-04-22T05:57:00.648249",
     "exception": false,
     "start_time": "2022-04-22T05:57:00.590302",
     "status": "completed"
    },
    "tags": []
   },
   "source": [
    "From the above correlation plot, we can easily see if certain attributes are correlated more strongly to wine `quality` than some others.\n",
    "\n",
    "- strong correlated attributes:\n",
    "  - `alcohol` and `quality`, and it's clear that this is the highest relation that affects wine quality.\n",
    "\n",
    "\n",
    "- weak correlated attributes (do not depend on each other):\n",
    "  - `density` and `alcohol`.\n",
    "  - `free.sulphur.dioxide` and `citric.acid` has almost no correlation with `quality`\n",
    "\n",
    "\n",
    "- `density` has strong positive correlation with `residual.sugar` and strong negative correlation with `alcohol`."
   ]
  },
  {
   "cell_type": "code",
   "execution_count": 47,
   "id": "1f3f1f38",
   "metadata": {
    "execution": {
     "iopub.execute_input": "2022-04-22T05:57:00.765452Z",
     "iopub.status.busy": "2022-04-22T05:57:00.765161Z",
     "iopub.status.idle": "2022-04-22T05:57:01.011844Z",
     "shell.execute_reply": "2022-04-22T05:57:01.011076Z"
    },
    "papermill": {
     "duration": 0.308504,
     "end_time": "2022-04-22T05:57:01.014036",
     "exception": false,
     "start_time": "2022-04-22T05:57:00.705532",
     "status": "completed"
    },
    "tags": []
   },
   "outputs": [
    {
     "data": {
      "image/png": "[encoded data removed]",
      "text/plain": [
       "<Figure size 1000x500 with 1 Axes>"
      ]
     },
     "metadata": {},
     "output_type": "display_data"
    }
   ],
   "source": [
    "figure = plt.figure(figsize = (10,5))\n",
    "ax = sns.countplot(x = \"quality\", data = wine_df, color = '#4287f5')\n",
    "plt.title(\"wine quality distribution\")\n",
    "ax.bar_label(ax.containers[0], label_type='edge')\n",
    "plt.show()"
   ]
  },
  {
   "cell_type": "markdown",
   "id": "e7f04025",
   "metadata": {
    "papermill": {
     "duration": 0.059478,
     "end_time": "2022-04-22T05:57:01.132444",
     "exception": false,
     "start_time": "2022-04-22T05:57:01.072966",
     "status": "completed"
    },
    "tags": []
   },
   "source": [
    "- the vast majority of the wine has a quality of 6, while less numbers has a quality of 9. "
   ]
  },
  {
   "cell_type": "markdown",
   "id": "23feb6c1",
   "metadata": {
    "papermill": {
     "duration": 0.057841,
     "end_time": "2022-04-22T05:57:01.247627",
     "exception": false,
     "start_time": "2022-04-22T05:57:01.189786",
     "status": "completed"
    },
    "tags": []
   },
   "source": [
    "___\n",
    "### Q2: Is a certain type of wine (red or white) associated with higher quality?"
   ]
  },
  {
   "cell_type": "code",
   "execution_count": 48,
   "id": "7fb4cac6",
   "metadata": {
    "execution": {
     "iopub.execute_input": "2022-04-22T05:57:01.364752Z",
     "iopub.status.busy": "2022-04-22T05:57:01.364148Z",
     "iopub.status.idle": "2022-04-22T05:57:01.673758Z",
     "shell.execute_reply": "2022-04-22T05:57:01.672987Z"
    },
    "papermill": {
     "duration": 0.370673,
     "end_time": "2022-04-22T05:57:01.6759",
     "exception": false,
     "start_time": "2022-04-22T05:57:01.305227",
     "status": "completed"
    },
    "tags": []
   },
   "outputs": [
    {
     "data": {
      "image/png": "[encoded data removed]",
      "text/plain": [
       "<Figure size 1000x500 with 1 Axes>"
      ]
     },
     "metadata": {},
     "output_type": "display_data"
    }
   ],
   "source": [
    "figure = plt.figure(figsize = (10,5))\n",
    "ax = sns.countplot(x = \"quality\", hue = \"color\", data = wine_df)\n",
    "plt.title(\"wine quality distribution with color\")\n",
    "ax.bar_label(ax.containers[0], label_type='edge')\n",
    "ax.bar_label(ax.containers[1], label_type='edge')\n",
    "plt.show()"
   ]
  },
  {
   "cell_type": "markdown",
   "id": "e7686d82",
   "metadata": {
    "papermill": {
     "duration": 0.058196,
     "end_time": "2022-04-22T05:57:01.7924",
     "exception": false,
     "start_time": "2022-04-22T05:57:01.734204",
     "status": "completed"
    },
    "tags": []
   },
   "source": [
    "- there is noticable deviation between white and red wine counts.\n",
    "- most of the white wine has a `quality` of 6, while most of the red wine has a `quality` of 5."
   ]
  },
  {
   "cell_type": "code",
   "execution_count": 49,
   "id": "0efb77dc",
   "metadata": {
    "execution": {
     "iopub.execute_input": "2022-04-22T05:57:01.911494Z",
     "iopub.status.busy": "2022-04-22T05:57:01.91102Z",
     "iopub.status.idle": "2022-04-22T05:57:02.082476Z",
     "shell.execute_reply": "2022-04-22T05:57:02.081609Z"
    },
    "papermill": {
     "duration": 0.233571,
     "end_time": "2022-04-22T05:57:02.084679",
     "exception": false,
     "start_time": "2022-04-22T05:57:01.851108",
     "status": "completed"
    },
    "tags": []
   },
   "outputs": [
    {
     "data": {
      "image/png": "[encoded data removed]",
      "text/plain": [
       "<Figure size 1000x500 with 1 Axes>"
      ]
     },
     "metadata": {},
     "output_type": "display_data"
    }
   ],
   "source": [
    "# plotting wine color dist.\n",
    "figure = plt.figure(figsize = (10,5))\n",
    "ax = sns.countplot(x = \"color\", data = wine_df)\n",
    "plt.title(\"color distribution\")\n",
    "ax.bar_label(ax.containers[0], label_type='edge')\n",
    "plt.show()"
   ]
  },
  {
   "cell_type": "markdown",
   "id": "126d0584",
   "metadata": {
    "papermill": {
     "duration": 0.058237,
     "end_time": "2022-04-22T05:57:02.2024",
     "exception": false,
     "start_time": "2022-04-22T05:57:02.144163",
     "status": "completed"
    },
    "tags": []
   },
   "source": [
    "- we can notice that white wine formes the vast majority of our dataset as it appears in more than 75% of the times."
   ]
  },
  {
   "cell_type": "code",
   "execution_count": 50,
   "id": "21381383",
   "metadata": {
    "execution": {
     "iopub.execute_input": "2022-04-22T05:57:02.322656Z",
     "iopub.status.busy": "2022-04-22T05:57:02.322241Z",
     "iopub.status.idle": "2022-04-22T05:57:02.618258Z",
     "shell.execute_reply": "2022-04-22T05:57:02.617415Z"
    },
    "papermill": {
     "duration": 0.3586,
     "end_time": "2022-04-22T05:57:02.62022",
     "exception": false,
     "start_time": "2022-04-22T05:57:02.26162",
     "status": "completed"
    },
    "tags": []
   },
   "outputs": [
    {
     "data": {
      "image/png": "[encoded data removed]",
      "text/plain": [
       "<Figure size 1000x500 with 1 Axes>"
      ]
     },
     "metadata": {},
     "output_type": "display_data"
    }
   ],
   "source": [
    "figure = plt.figure(figsize = (10,5))\n",
    "ax = sns.barplot(x = \"color\", y = \"quality\", data = wine_df)\n",
    "plt.title(\"wine quality against color\")\n",
    "plt.show()"
   ]
  },
  {
   "cell_type": "code",
   "execution_count": 51,
   "id": "9280dac2",
   "metadata": {
    "execution": {
     "iopub.execute_input": "2022-04-22T05:57:02.742258Z",
     "iopub.status.busy": "2022-04-22T05:57:02.741425Z",
     "iopub.status.idle": "2022-04-22T05:57:02.752017Z",
     "shell.execute_reply": "2022-04-22T05:57:02.751272Z"
    },
    "papermill": {
     "duration": 0.074197,
     "end_time": "2022-04-22T05:57:02.753927",
     "exception": false,
     "start_time": "2022-04-22T05:57:02.67973",
     "status": "completed"
    },
    "tags": []
   },
   "outputs": [
    {
     "name": "stderr",
     "output_type": "stream",
     "text": [
      "/var/folders/hh/1zlly3jj27j032_fwpr2wstm0000gn/T/ipykernel_247/1535642038.py:1: FutureWarning: The default of observed=False is deprecated and will be changed to True in a future version of pandas. Pass observed=False to retain current behavior or observed=True to adopt the future default and silence this warning.\n",
      "  wine_df.groupby('color')['quality'].mean()\n"
     ]
    },
    {
     "data": {
      "text/plain": [
       "color\n",
       "red      5.636023\n",
       "white    5.877909\n",
       "Name: quality, dtype: float64"
      ]
     },
     "execution_count": 51,
     "metadata": {},
     "output_type": "execute_result"
    }
   ],
   "source": [
    "wine_df.groupby('color')['quality'].mean()"
   ]
  },
  {
   "cell_type": "markdown",
   "id": "1512270e",
   "metadata": {
    "papermill": {
     "duration": 0.059828,
     "end_time": "2022-04-22T05:57:02.875859",
     "exception": false,
     "start_time": "2022-04-22T05:57:02.816031",
     "status": "completed"
    },
    "tags": []
   },
   "source": [
    "- the mean quality of red and white wine are versy close.\n",
    "- white wine has the best mean quality higher than red wine."
   ]
  },
  {
   "cell_type": "markdown",
   "id": "271ce68a",
   "metadata": {
    "papermill": {
     "duration": 0.061025,
     "end_time": "2022-04-22T05:57:02.996112",
     "exception": false,
     "start_time": "2022-04-22T05:57:02.935087",
     "status": "completed"
    },
    "tags": []
   },
   "source": [
    "___\n",
    "### Q3: Do wines with higher alcoholic content receive better ratings?"
   ]
  },
  {
   "cell_type": "code",
   "execution_count": 52,
   "id": "79a4443b",
   "metadata": {
    "execution": {
     "iopub.execute_input": "2022-04-22T05:57:03.120582Z",
     "iopub.status.busy": "2022-04-22T05:57:03.120058Z",
     "iopub.status.idle": "2022-04-22T05:57:03.128502Z",
     "shell.execute_reply": "2022-04-22T05:57:03.127928Z"
    },
    "papermill": {
     "duration": 0.072491,
     "end_time": "2022-04-22T05:57:03.130126",
     "exception": false,
     "start_time": "2022-04-22T05:57:03.057635",
     "status": "completed"
    },
    "tags": []
   },
   "outputs": [
    {
     "data": {
      "text/plain": [
       "count    6497.000000\n",
       "mean       10.491801\n",
       "std         1.192712\n",
       "min         8.000000\n",
       "25%         9.500000\n",
       "50%        10.300000\n",
       "75%        11.300000\n",
       "max        14.900000\n",
       "Name: alcohol, dtype: float64"
      ]
     },
     "execution_count": 52,
     "metadata": {},
     "output_type": "execute_result"
    }
   ],
   "source": [
    "# viewing stats about alcoholic content\n",
    "wine_df['alcohol'].describe()"
   ]
  },
  {
   "cell_type": "markdown",
   "id": "bbdd1600",
   "metadata": {
    "papermill": {
     "duration": 0.061437,
     "end_time": "2022-04-22T05:57:03.252233",
     "exception": false,
     "start_time": "2022-04-22T05:57:03.190796",
     "status": "completed"
    },
    "tags": []
   },
   "source": [
    "- we have the highst alcohol content at 14.9.\n",
    "- most of the wine has alcoholic content around 10.4."
   ]
  },
  {
   "cell_type": "code",
   "execution_count": 53,
   "id": "4e162ea5",
   "metadata": {
    "execution": {
     "iopub.execute_input": "2022-04-22T05:57:03.376415Z",
     "iopub.status.busy": "2022-04-22T05:57:03.375906Z",
     "iopub.status.idle": "2022-04-22T05:57:03.891671Z",
     "shell.execute_reply": "2022-04-22T05:57:03.891105Z"
    },
    "papermill": {
     "duration": 0.579955,
     "end_time": "2022-04-22T05:57:03.893473",
     "exception": false,
     "start_time": "2022-04-22T05:57:03.313518",
     "status": "completed"
    },
    "tags": []
   },
   "outputs": [
    {
     "data": {
      "image/png": "[encoded data removed]",
      "text/plain": [
       "<Figure size 1000x500 with 1 Axes>"
      ]
     },
     "metadata": {},
     "output_type": "display_data"
    }
   ],
   "source": [
    "# plotting alcohol and quality\n",
    "figure = plt.figure(figsize = (10,5))\n",
    "ax = sns.lineplot(x = \"quality\", y = \"alcohol\", data = wine_df)\n",
    "plt.title(\"wine quality against alcoholic content\")\n",
    "plt.show()"
   ]
  },
  {
   "cell_type": "markdown",
   "id": "fd180d68",
   "metadata": {
    "papermill": {
     "duration": 0.062573,
     "end_time": "2022-04-22T05:57:04.018024",
     "exception": false,
     "start_time": "2022-04-22T05:57:03.955451",
     "status": "completed"
    },
    "tags": []
   },
   "source": [
    "- most of our dataset that has a quality of 6 appears to have relatively low acoholic content, but it's still above the mean.\n",
    "- high alcoholic content only appears in our dataset with high quality wine."
   ]
  },
  {
   "cell_type": "markdown",
   "id": "04ba1673",
   "metadata": {
    "papermill": {
     "duration": 0.06724,
     "end_time": "2022-04-22T05:57:04.149701",
     "exception": false,
     "start_time": "2022-04-22T05:57:04.082461",
     "status": "completed"
    },
    "tags": []
   },
   "source": [
    "___\n",
    "### Q4: Do sweeter wines (more residual sugar) receive better ratings?"
   ]
  },
  {
   "cell_type": "code",
   "execution_count": 54,
   "id": "ca7addef",
   "metadata": {
    "execution": {
     "iopub.execute_input": "2022-04-22T05:57:04.278854Z",
     "iopub.status.busy": "2022-04-22T05:57:04.278576Z",
     "iopub.status.idle": "2022-04-22T05:57:04.289013Z",
     "shell.execute_reply": "2022-04-22T05:57:04.288136Z"
    },
    "papermill": {
     "duration": 0.078135,
     "end_time": "2022-04-22T05:57:04.291265",
     "exception": false,
     "start_time": "2022-04-22T05:57:04.21313",
     "status": "completed"
    },
    "tags": []
   },
   "outputs": [
    {
     "data": {
      "text/plain": [
       "count    6497.000000\n",
       "mean        5.443235\n",
       "std         4.757804\n",
       "min         0.600000\n",
       "25%         1.800000\n",
       "50%         3.000000\n",
       "75%         8.100000\n",
       "max        65.800000\n",
       "Name: residual.sugar, dtype: float64"
      ]
     },
     "execution_count": 54,
     "metadata": {},
     "output_type": "execute_result"
    }
   ],
   "source": [
    "wine_df['residual.sugar'].describe()"
   ]
  },
  {
   "cell_type": "code",
   "execution_count": 55,
   "id": "a8257936",
   "metadata": {
    "execution": {
     "iopub.execute_input": "2022-04-22T05:57:04.421433Z",
     "iopub.status.busy": "2022-04-22T05:57:04.420933Z",
     "iopub.status.idle": "2022-04-22T05:57:04.66592Z",
     "shell.execute_reply": "2022-04-22T05:57:04.665361Z"
    },
    "papermill": {
     "duration": 0.312076,
     "end_time": "2022-04-22T05:57:04.667709",
     "exception": false,
     "start_time": "2022-04-22T05:57:04.355633",
     "status": "completed"
    },
    "tags": []
   },
   "outputs": [
    {
     "name": "stderr",
     "output_type": "stream",
     "text": [
      "/var/folders/hh/1zlly3jj27j032_fwpr2wstm0000gn/T/ipykernel_247/3659265657.py:3: FutureWarning: \n",
      "\n",
      "The `ci` parameter is deprecated. Use `errorbar=None` for the same effect.\n",
      "\n",
      "  ax = sns.barplot(x = \"quality\", y = \"residual.sugar\", data = wine_df,\n"
     ]
    },
    {
     "data": {
      "image/png": "[encoded data removed]",
      "text/plain": [
       "<Figure size 1000x500 with 1 Axes>"
      ]
     },
     "metadata": {},
     "output_type": "display_data"
    }
   ],
   "source": [
    "# plotting alcohol and quality\n",
    "figure = plt.figure(figsize = (10,5))\n",
    "ax = sns.barplot(x = \"quality\", y = \"residual.sugar\", data = wine_df, \n",
    "                 color = '#4287f5', ci = None)\n",
    "ax.bar_label(ax.containers[0], label_type='edge')\n",
    "plt.title(\"wine quality against residual sugar content\")\n",
    "plt.show()"
   ]
  },
  {
   "cell_type": "markdown",
   "id": "0967e337",
   "metadata": {
    "papermill": {
     "duration": 0.063866,
     "end_time": "2022-04-22T05:57:04.795094",
     "exception": false,
     "start_time": "2022-04-22T05:57:04.731228",
     "status": "completed"
    },
    "tags": []
   },
   "source": [
    "- we can see that the highest sugar content is tied to a quality of 5, while lower sugar content appears to have respectively higher quality."
   ]
  },
  {
   "cell_type": "markdown",
   "id": "3f683e1b",
   "metadata": {
    "papermill": {
     "duration": 0.062174,
     "end_time": "2022-04-22T05:57:04.920264",
     "exception": false,
     "start_time": "2022-04-22T05:57:04.85809",
     "status": "completed"
    },
    "tags": []
   },
   "source": [
    "___\n",
    "### Q5: What level of acidity (pH) is associated with the highest quality?"
   ]
  },
  {
   "cell_type": "markdown",
   "id": "029c3050",
   "metadata": {
    "papermill": {
     "duration": 0.064267,
     "end_time": "2022-04-22T05:57:05.048489",
     "exception": false,
     "start_time": "2022-04-22T05:57:04.984222",
     "status": "completed"
    },
    "tags": []
   },
   "source": [
    "for better analysis in order to answer this question, we'd cut and categorize `pH` column values according to the following:\n",
    "\n",
    "|Acidity Label | pH value|\n",
    "| --- | --- |\n",
    "|High | Lowest 25% of pH values|\n",
    "|Average | 25% - 50% of pH values|\n",
    "|BelowAverage | 50% - 75% of pH values|\n",
    "|Low | 75% - max pH value|"
   ]
  },
  {
   "cell_type": "code",
   "execution_count": 56,
   "id": "59d89641",
   "metadata": {
    "execution": {
     "iopub.execute_input": "2022-04-22T05:57:05.179443Z",
     "iopub.status.busy": "2022-04-22T05:57:05.178897Z",
     "iopub.status.idle": "2022-04-22T05:57:05.19894Z",
     "shell.execute_reply": "2022-04-22T05:57:05.19825Z"
    },
    "papermill": {
     "duration": 0.086693,
     "end_time": "2022-04-22T05:57:05.200885",
     "exception": false,
     "start_time": "2022-04-22T05:57:05.114192",
     "status": "completed"
    },
    "tags": []
   },
   "outputs": [
    {
     "data": {
      "text/plain": [
       "CategoricalDtype(categories=['High', 'Average', 'BelowAverage', 'Low'], ordered=True, categories_dtype=object)"
      ]
     },
     "execution_count": 56,
     "metadata": {},
     "output_type": "execute_result"
    }
   ],
   "source": [
    "# define pH labels\n",
    "labels = ['High', 'Average', 'BelowAverage', 'Low']\n",
    "\n",
    "# categorize values\n",
    "catigorize_col(wine_df, 'pH', labels)\n",
    "\n",
    "# confirm changes\n",
    "wine_df['pH'].dtype"
   ]
  },
  {
   "cell_type": "code",
   "execution_count": 57,
   "id": "035f834a",
   "metadata": {
    "execution": {
     "iopub.execute_input": "2022-04-22T05:57:05.332552Z",
     "iopub.status.busy": "2022-04-22T05:57:05.332251Z",
     "iopub.status.idle": "2022-04-22T05:57:05.542635Z",
     "shell.execute_reply": "2022-04-22T05:57:05.541944Z"
    },
    "papermill": {
     "duration": 0.278355,
     "end_time": "2022-04-22T05:57:05.544465",
     "exception": false,
     "start_time": "2022-04-22T05:57:05.26611",
     "status": "completed"
    },
    "tags": []
   },
   "outputs": [
    {
     "data": {
      "image/png": "[encoded data removed]",
      "text/plain": [
       "<Figure size 1000x500 with 1 Axes>"
      ]
     },
     "metadata": {},
     "output_type": "display_data"
    }
   ],
   "source": [
    "# plotting acidity dist\n",
    "figure = plt.figure(figsize = (10,5))\n",
    "ax = sns.countplot(x = \"pH\", data = wine_df, color = '#4287f5',\n",
    "                   order = wine_df['pH'].value_counts().index,)\n",
    "ax.bar_label(ax.containers[0], label_type='edge')\n",
    "plt.title(\"acidity levels distribution\")\n",
    "plt.show()"
   ]
  },
  {
   "cell_type": "markdown",
   "id": "65516742",
   "metadata": {
    "papermill": {
     "duration": 0.064661,
     "end_time": "2022-04-22T05:57:05.676269",
     "exception": false,
     "start_time": "2022-04-22T05:57:05.611608",
     "status": "completed"
    },
    "tags": []
   },
   "source": [
    "- most of the wine in our dataset has high acidity level"
   ]
  },
  {
   "cell_type": "code",
   "execution_count": 58,
   "id": "ce2af18d",
   "metadata": {
    "execution": {
     "iopub.execute_input": "2022-04-22T05:57:05.807515Z",
     "iopub.status.busy": "2022-04-22T05:57:05.806982Z",
     "iopub.status.idle": "2022-04-22T05:57:06.321294Z",
     "shell.execute_reply": "2022-04-22T05:57:06.320707Z"
    },
    "papermill": {
     "duration": 0.583175,
     "end_time": "2022-04-22T05:57:06.323196",
     "exception": false,
     "start_time": "2022-04-22T05:57:05.740021",
     "status": "completed"
    },
    "tags": []
   },
   "outputs": [
    {
     "data": {
      "image/png": "[encoded data removed]",
      "text/plain": [
       "<Figure size 1000x500 with 1 Axes>"
      ]
     },
     "metadata": {},
     "output_type": "display_data"
    }
   ],
   "source": [
    "# plotting quality against acidity levels in pH\n",
    "figure = plt.figure(figsize = (10,5))\n",
    "ax = sns.barplot(y = \"quality\", x = \"pH\", data = wine_df, color = '#4287f5')\n",
    "plt.title(\"wine quality against acidity levels\")\n",
    "plt.show()"
   ]
  },
  {
   "cell_type": "code",
   "execution_count": 59,
   "id": "57c57765",
   "metadata": {
    "execution": {
     "iopub.execute_input": "2022-04-22T05:57:06.459326Z",
     "iopub.status.busy": "2022-04-22T05:57:06.458924Z",
     "iopub.status.idle": "2022-04-22T05:57:06.465414Z",
     "shell.execute_reply": "2022-04-22T05:57:06.464883Z"
    },
    "papermill": {
     "duration": 0.077012,
     "end_time": "2022-04-22T05:57:06.467336",
     "exception": false,
     "start_time": "2022-04-22T05:57:06.390324",
     "status": "completed"
    },
    "tags": []
   },
   "outputs": [
    {
     "name": "stderr",
     "output_type": "stream",
     "text": [
      "/var/folders/hh/1zlly3jj27j032_fwpr2wstm0000gn/T/ipykernel_247/1255036464.py:2: FutureWarning: The default of observed=False is deprecated and will be changed to True in a future version of pandas. Pass observed=False to retain current behavior or observed=True to adopt the future default and silence this warning.\n",
      "  wine_df.groupby('pH')['quality'].mean()\n"
     ]
    },
    {
     "data": {
      "text/plain": [
       "pH\n",
       "High            5.783343\n",
       "Average         5.784540\n",
       "BelowAverage    5.850832\n",
       "Low             5.859593\n",
       "Name: quality, dtype: float64"
      ]
     },
     "execution_count": 59,
     "metadata": {},
     "output_type": "execute_result"
    }
   ],
   "source": [
    "# Find the mean quality of each acidity level in pH with groupby\n",
    "wine_df.groupby('pH')['quality'].mean()"
   ]
  },
  {
   "cell_type": "markdown",
   "id": "88e5af75",
   "metadata": {
    "papermill": {
     "duration": 0.06752,
     "end_time": "2022-04-22T05:57:06.602268",
     "exception": false,
     "start_time": "2022-04-22T05:57:06.534748",
     "status": "completed"
    },
    "tags": []
   },
   "source": [
    "- it's clear that all four acidity levels has close mean quality, but the Low acidity level has the highest quality in our dataset."
   ]
  },
  {
   "cell_type": "markdown",
   "id": "e0154431",
   "metadata": {
    "papermill": {
     "duration": 0.066996,
     "end_time": "2022-04-22T05:57:06.737076",
     "exception": false,
     "start_time": "2022-04-22T05:57:06.67008",
     "status": "completed"
    },
    "tags": []
   },
   "source": [
    "___\n",
    "## Conclusion\n",
    "\n",
    "### Q1: What chemical characteristics are most important in predicting the quality of wine?\n",
    "- the vast majority of the wine has a `quality` of 6, while less numbers has a `quality` of 9.\n",
    "- using correlation plot, we can easily see if certain attributes are correlated more strongly to wine `quality` than some others.\n",
    "\n",
    "  - strong correlated attributes:\n",
    "    - `alcohol` and `quality`, and it's clear that this is the highest relation that affects wine `quality`.\n",
    "  - weak correlated attributes (do not depend on each other):\n",
    "    - `density` and `alcohol`.\n",
    "    - `free.sulphur.dioxide` and `citric.acid` has almost no correlation with quality\n",
    "  - `density` has strong positive correlation with `residual.sugar` and strong negative correlation with `alcohol`.\n",
    "\n",
    "\n",
    "### Q2: Is a certain type of wine (red or white) associated with higher quality?\n",
    "- there is noticable deviation between `white` and `red` wine counts.\n",
    "- `white` wine formes the vast majority of our dataset as it appears in more than 75% of the times.\n",
    "- most of the `white` wine has a `quality` of 6, while most of the `red` wine has a `quality` of 5.\n",
    "- the mean `quality` of `red` and `white` wine are ve`ry close.\n",
    "- `white` wine has the best mean `quality` higher than `red` wine.\n",
    "\n",
    "\n",
    "### Q3: Do wines with higher alcoholic content receive better ratings?\n",
    "- we have the highst `alcohol` content at 14.9.\n",
    "- most of the wine has `alcoholic` content around 10.4.\n",
    "- most of our dataset that has a `quality` of 6 appears to have relatively low `acoholic` content, but it's still above the mean.\n",
    "- high `alcoholic` content only appears in our dataset with high `quality` wine.\n",
    "\n",
    "\n",
    "### Q4: Do sweeter wines (more residual sugar) receive better ratings?\n",
    "- we can see that the highest `sugar` content is tied to a `quality` of 5, while lower `sugar` content appears to have respectively higher `quality`.\n",
    "\n",
    "\n",
    "### Q5: What level of acidity (pH) is associated with the highest quality?\n",
    "- most of the wine in our dataset has high `acidity level`\n",
    "- it's clear that all four acidity levels has close mean `quality`, but the `Low acidity` level has the highest `quality` in our dataset."
   ]
  }
 ],
 "metadata": {
  "kernelspec": {
   "display_name": "base",
   "language": "python",
   "name": "python3"
  },
  "language_info": {
   "codemirror_mode": {
    "name": "ipython",
    "version": 3
   },
   "file_extension": ".py",
   "mimetype": "text/x-python",
   "name": "python",
   "nbconvert_exporter": "python",
   "pygments_lexer": "ipython3",
   "version": "3.12.7"
  },
  "papermill": {
   "default_parameters": {},
   "duration": 21.648726,
   "end_time": "2022-04-22T05:57:07.525382",
   "environment_variables": {},
   "exception": null,
   "input_path": "__notebook__.ipynb",
   "output_path": "__notebook__.ipynb",
   "parameters": {},
   "start_time": "2022-04-22T05:56:45.876656",
   "version": "2.3.4"
  }
 },
 "nbformat": 4,
 "nbformat_minor": 5
}
